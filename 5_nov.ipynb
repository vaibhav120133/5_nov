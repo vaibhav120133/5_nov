{
 "cells": [
  {
   "cell_type": "markdown",
   "id": "2e21ca58-8464-40c4-a6cc-83d3cb209685",
   "metadata": {},
   "source": [
    "#1\n",
    "T(2)=105"
   ]
  },
  {
   "cell_type": "markdown",
   "id": "0f669921-2d5c-4e45-a979-1d8cb4e31172",
   "metadata": {},
   "source": [
    "#2\n",
    "a. T(n) = T(n-1) + c\n",
    "\n",
    "The substitution method for this type of recurrence doesn't directly apply because the subproblem size (n-1) isn't a constant multiple of the original size (n). This kind of recurrence typically represents a linear relationship and is often solved using iteration or summation techniques.\n",
    "\n",
    "b. T(n) = 2T(n/2) + n\n",
    "\n",
    "This recurrence relation is well-suited for the substitution method. Here's the solution:\n",
    "\n",
    "Base Case: We need a base case to stop the recursion. Let's assume T(1) = b (where b is a constant). This base case represents the time taken for the smallest input size (n = 1).\n",
    "\n",
    "Substitution:\n",
    "\n",
    "Express T(n) in terms of smaller subproblems: T(n) = 2T(n/2) + n\n",
    "Substitute T(n/2) using the base case (if n/2 is less than or equal to 1):\n",
    "If n/2 <= 1, then T(n/2) = b (base case)\n",
    "Substitute this back into the original equation: T(n) = 2 * b + n\n",
    "Solve the Recurrence:\n",
    "\n",
    "We now have a linear relationship between T(n) and n. We can solve this using summation: T(n) = 2b + n (from step 2)\n",
    "To account for all the subproblems from n/2 down to 1, we can sum this expression from k = 1 to k = log2(n) (since n/2^log2(n) = 1): Total Time = T(n) = Σ (2b + k) from k = 1 to k = log2(n)\n",
    "This summation telescopes (many terms cancel out): Total Time = 2b * log2(n) + (log2(n) + 1)\n",
    "Therefore, the solution for T(n) in this case is T(n) = 2b * log2(n) + (log2(n) + 1).\n",
    "\n",
    "c. T(n) = 2T(n/2) + c\n",
    "\n",
    "This recurrence relation is very similar to case (b). The only difference is the constant term c instead of n. The solution approach remains the same:\n",
    "\n",
    "Base Case: Assume T(1) = b (constant).\n",
    "Substitution:\n",
    "T(n) = 2T(n/2) + c\n",
    "If n/2 <= 1, then T(n/2) = b (base case)\n",
    "Substitute: T(n) = 2b + c\n",
    "Solve the Recurrence:\n",
    "T(n) = 2b + c (from step 2)\n",
    "Summation from k = 1 to k = log2(n): Total Time = T(n) = Σ (2b + c) from k = 1 to k = log2(n)\n",
    "Telescoping the sum: Total Time = 2b * log2(n) + (log2(n) + 1) * c\n",
    "Therefore, the solution for T(n) in this case is T(n) = 2b * log2(n) + (log2(n) + 1) * c.\n",
    "\n",
    "d. T(n) = T(n/2) + c\n",
    "\n",
    "The constant term c in the subproblem (T(n/2)) makes the direct application of the substitution method less straightforward. However, we can still analyze the time complexity using the Master Theorem (if applicable) or other techniques depending on the specific problem context."
   ]
  },
  {
   "cell_type": "markdown",
   "id": "50cee518-c89f-445e-a106-00a0977c4acf",
   "metadata": {},
   "source": [
    "#3\n",
    "a. T(n) = 2T(n-1) + 1\n",
    "\n",
    "The recursive tree for this recurrence will grow linearly as n increases. Here's the breakdown:\n",
    "\n",
    "Structure: Each node in the tree represents the time complexity (T(n)) for a subproblem of size n. The root node represents the entire problem of size n.\n",
    "Recursion: Each node has two child nodes, corresponding to the two subproblems of size n-1 in the original recurrence.\n",
    "Cost at each Level: The cost at each level is constant (1) due to the additional term in the recurrence.\n",
    "However, directly summing the costs at each level in a linearly growing tree doesn't lead to a well-defined time complexity bound. This type of recurrence often represents a linear relationship and might be better suited for solving using iteration or summation techniques.\n",
    "\n",
    "b. T(n) = 2T(n/2) + n\n",
    "\n",
    "This recurrence is a good fit for the recursive tree method. Here's how to solve it:\n",
    "\n",
    "Recursive Tree:\n",
    "\n",
    "The tree will have a height of log2(n) (number of times n can be halved until reaching the base case).\n",
    "Each node at level i represents a subproblem of size n / 2^i.\n",
    "Each non-leaf node has two children, representing the two subproblems of size n / 2^(i+1).\n",
    "Cost at each Level:\n",
    "\n",
    "Leaf nodes (base cases): Cost is constant (b, where b is a constant time taken for the smallest subproblem).\n",
    "Non-leaf nodes: Cost is the sum of the costs of its two children (due to the division by 2 in the recurrence) plus the additional cost n / 2^i (because the problem at that level is still of size n / 2^i).\n",
    "Calculate the Total Cost:\n",
    "\n",
    "We can calculate the total cost by summing the costs at each level. However, for this type of tree (divide-and-conquer with constant additional cost), a more efficient approach is to use the Akra-Bazzi Theorem (a more general version of the Master Theorem).\n",
    "The Akra-Bazzi Theorem provides a closed-form solution for this kind of recurrence. It involves analyzing the growth rate of the additional cost (n / 2^i) compared to the size of the subproblems (n / 2^i). In this case, the additional cost grows slower than the subproblem size (logarithmic vs. linear).\n",
    "\n",
    "Based on the Akra-Bazzi Theorem, the time complexity of T(n) in this case is:\n",
    "\n",
    "T(n) = O(n * log n)\n",
    "\n",
    "Key points to remember for using the recursive tree method:\n",
    "\n",
    "It's particularly useful for divide-and-conquer recurrences.\n",
    "Analyze the structure of the tree (height, branching factor, cost at each level).\n",
    "For simpler cases, sum the costs at each level.\n",
    "For more complex cases, consider using theorems like Akra-Bazzi for a closed-form solution."
   ]
  }
 ],
 "metadata": {
  "kernelspec": {
   "display_name": "Python 3 (ipykernel)",
   "language": "python",
   "name": "python3"
  },
  "language_info": {
   "codemirror_mode": {
    "name": "ipython",
    "version": 3
   },
   "file_extension": ".py",
   "mimetype": "text/x-python",
   "name": "python",
   "nbconvert_exporter": "python",
   "pygments_lexer": "ipython3",
   "version": "3.10.8"
  }
 },
 "nbformat": 4,
 "nbformat_minor": 5
}
